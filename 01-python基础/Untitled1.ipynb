{
 "cells": [
  {
   "cell_type": "code",
   "execution_count": 1,
   "metadata": {},
   "outputs": [
    {
     "name": "stdout",
     "output_type": "stream",
     "text": [
      "[1, 2, 3, 4, 5, 6]\n",
      "[1, 2, 300, 4, 5, 6]\n",
      "[1, 2, 300, 4, 5, 6]\n",
      "9\n",
      "109\n",
      "9\n"
     ]
    }
   ],
   "source": [
    "#传值和传址的区别\n",
    "#对于简单的数值，采用传值操作，在函数内对参数的操作不影响外面的变量\n",
    "#对于复杂的变量，采用传址操作，此时函数内的参数和外部变量的是同一份内容\n",
    "#任何地方对此内容的更改都影响另外的变量或参数的使用\n",
    "\n",
    "def a(n):\n",
    "    n[2] = 300\n",
    "    print(n)\n",
    "    return None\n",
    "\n",
    "def b(n):\n",
    "    n += 100\n",
    "    print(n)\n",
    "    return None\n",
    "\n",
    "an = [1,2,3,4,5,6]\n",
    "bn = 9\n",
    "\n",
    "print(an)\n",
    "a(an)\n",
    "print(an)\n",
    "\n",
    "print(bn)\n",
    "b(bn)\n",
    "print(bn)"
   ]
  },
  {
   "cell_type": "code",
   "execution_count": 2,
   "metadata": {},
   "outputs": [
    {
     "name": "stdout",
     "output_type": "stream",
     "text": [
      "['a', 'I love Baixiujiao', 23, 56, 27, 93]\n"
     ]
    }
   ],
   "source": [
    "#关于列表的函数\n",
    "\n",
    "l = ['a','I love Baixiujiao',23,56,27,4+89]\n",
    "print(l)"
   ]
  },
  {
   "cell_type": "code",
   "execution_count": 3,
   "metadata": {},
   "outputs": [
    {
     "name": "stdout",
     "output_type": "stream",
     "text": [
      "[1, 2, 3, 4]\n",
      "[1, 2, 3, 4, 100]\n"
     ]
    }
   ],
   "source": [
    "#append 在末尾追加一个内容\n",
    "a = [i for i in range(1,5)]\n",
    "print(a)\n",
    "a.append(100)\n",
    "print(a)"
   ]
  },
  {
   "cell_type": "code",
   "execution_count": 6,
   "metadata": {},
   "outputs": [
    {
     "name": "stdout",
     "output_type": "stream",
     "text": [
      "[1, 2, 3, 99, 99, 4, 100]\n",
      "[1, 2, 3, 99, 99, 99, 4, 100]\n"
     ]
    }
   ],
   "source": [
    "# insert 指定位置插入\n",
    "# insert(index,data)\n",
    "print(a)\n",
    "a.insert(4,99)\n",
    "print(a)\n"
   ]
  },
  {
   "cell_type": "code",
   "execution_count": 9,
   "metadata": {},
   "outputs": [
    {
     "name": "stdout",
     "output_type": "stream",
     "text": [
      "[1, 2, 3, 4, 5, 6, 7]\n",
      "3054611162120\n",
      "[7, 6, 5, 4, 3, 2, 1]\n",
      "3054611162120\n"
     ]
    }
   ],
   "source": [
    "# reverse：翻转列表内容\n",
    "#原地翻转\n",
    "a = [1,2,3,4,5,6,7]\n",
    "print(a)\n",
    "print(id(a))\n",
    "\n",
    "a.reverse()\n",
    "\n",
    "print(a)\n",
    "print(id(a))"
   ]
  },
  {
   "cell_type": "code",
   "execution_count": 13,
   "metadata": {},
   "outputs": [
    {
     "name": "stdout",
     "output_type": "stream",
     "text": [
      "[7, 8, 9]\n",
      "3054611164488\n",
      "[7, 8, 9, 1, 2, 3, 4, 5, 6]\n",
      "3054611164488\n"
     ]
    }
   ],
   "source": [
    "# extend: 扩展列表，两个列表，把一个直接拼接到后一个上\n",
    "\n",
    "a = [1,2,3,4,5,6]\n",
    "b = [7,8,9]\n",
    "print(b)\n",
    "print(id(b))\n",
    "\n",
    "b.extend(a)\n",
    "print(b)\n",
    "print(id(b))"
   ]
  },
  {
   "cell_type": "code",
   "execution_count": 16,
   "metadata": {},
   "outputs": [
    {
     "name": "stdout",
     "output_type": "stream",
     "text": [
      "[1, 2, 3, 4, 8, 8, 5, 6, 8, 8]\n",
      "[1, 2, 3, 4, 8, 8, 8, 5, 6, 8, 8, 8]\n",
      "6\n"
     ]
    }
   ],
   "source": [
    "#count:查找列表指定值或元素的个数\n",
    "print(a)\n",
    "a.append(8)\n",
    "a.insert(4,8)\n",
    "print(a)\n",
    "a_len = a.count(8)\n",
    "print(a_len)"
   ]
  },
  {
   "cell_type": "code",
   "execution_count": 19,
   "metadata": {},
   "outputs": [
    {
     "name": "stdout",
     "output_type": "stream",
     "text": [
      "[1, 2, 3, 4, 5, 6]\n",
      "[1, 2, 3, 7, 5, 6]\n",
      "3054609852680\n",
      "[1, 2, 3, 7, 5, 6]\n",
      "3054609852680\n",
      "********************\n",
      "[1, 2, 3, 7, 5, 6]\n",
      "3054609852680\n",
      "[1, 2, 3, 7, 5, 6]\n",
      "3054609440136\n",
      "********************\n",
      "[1, 2, 3, 7, 5, 6]\n",
      "[1, 2, 3, 666, 5, 6]\n"
     ]
    }
   ],
   "source": [
    "#copy:拷贝，此函数是浅拷贝\n",
    "#列表类型变量赋值示例\n",
    "a = [1,2,3,4,5,6]\n",
    "print(a)\n",
    "# list类型，简单赋值操作，传址\n",
    "b = a \n",
    "b[3] = 7\n",
    "print(a)\n",
    "print(id(a))\n",
    "print(b)\n",
    "print(id(b))\n",
    "print('*'*20)\n",
    "\n",
    "#list赋值需要采用copy函数\n",
    "b = a.copy() #另外获取一份新的内存\n",
    "print(a)\n",
    "print(id(a))\n",
    "print(b)\n",
    "print(id(b))\n",
    "print(\"*\"*20)\n",
    "\n",
    "b[3] = 666\n",
    "print(a)\n",
    "print(b)"
   ]
  },
  {
   "cell_type": "code",
   "execution_count": 21,
   "metadata": {},
   "outputs": [
    {
     "name": "stdout",
     "output_type": "stream",
     "text": [
      "3054611015688\n",
      "3054611016904\n",
      "3054611162120\n",
      "3054611162120\n",
      "[1, 2, 3, [4, 5, 666]]\n",
      "[1, 2, 3, [4, 5, 666]]\n"
     ]
    }
   ],
   "source": [
    "#深拷贝和浅拷贝\n",
    "a = [1,2,3,[4,5,6]]\n",
    "b = a.copy()\n",
    "print(id(a))\n",
    "print(id(b))\n",
    "print(id(a[3]))\n",
    "print(id(b[3]))\n",
    "a[3][2] = 666\n",
    "print(a)\n",
    "print(b)"
   ]
  },
  {
   "cell_type": "code",
   "execution_count": null,
   "metadata": {},
   "outputs": [],
   "source": []
  },
  {
   "cell_type": "code",
   "execution_count": null,
   "metadata": {},
   "outputs": [],
   "source": []
  }
 ],
 "metadata": {
  "kernelspec": {
   "display_name": "Python 3",
   "language": "python",
   "name": "python3"
  },
  "language_info": {
   "codemirror_mode": {
    "name": "ipython",
    "version": 3
   },
   "file_extension": ".py",
   "mimetype": "text/x-python",
   "name": "python",
   "nbconvert_exporter": "python",
   "pygments_lexer": "ipython3",
   "version": "3.7.0"
  }
 },
 "nbformat": 4,
 "nbformat_minor": 2
}
